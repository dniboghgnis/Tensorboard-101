{
  "nbformat": 4,
  "nbformat_minor": 0,
  "metadata": {
    "colab": {
      "name": "regularizersOnFlatImage.ipynb",
      "provenance": [],
      "authorship_tag": "ABX9TyPwh18G+N2gs+GHYPzMM1rD",
      "include_colab_link": true
    },
    "kernelspec": {
      "name": "python3",
      "display_name": "Python 3"
    }
  },
  "cells": [
    {
      "cell_type": "markdown",
      "metadata": {
        "id": "view-in-github",
        "colab_type": "text"
      },
      "source": [
        "<a href=\"https://colab.research.google.com/github/dniboghgnis/Tensorboard-101/blob/master/regularizersOnFlatImage.ipynb\" target=\"_parent\"><img src=\"https://colab.research.google.com/assets/colab-badge.svg\" alt=\"Open In Colab\"/></a>"
      ]
    },
    {
      "cell_type": "code",
      "metadata": {
        "id": "J3SCzWHYOISi"
      },
      "source": [
        "import tensorflow as tf\n",
        "import pandas as pd\n",
        "from tensorflow.keras import Sequential\n",
        "from tensorflow.keras.layers import Dense,Flatten,Dropout,BatchNormalization\n",
        "import matplotlib.pyplot as plt"
      ],
      "execution_count": 50,
      "outputs": []
    },
    {
      "cell_type": "code",
      "metadata": {
        "colab": {
          "base_uri": "https://localhost:8080/"
        },
        "id": "JjRhmYH0KV_3",
        "outputId": "724ca604-9a5c-4c60-dd5d-f12d7ceca144"
      },
      "source": [
        "fashion_mnist_data = tf.keras.datasets.fashion_mnist\n",
        "(train_images, train_labels), (test_images, test_labels) = fashion_mnist_data.load_data()\n",
        "\n",
        "train_labels=pd.get_dummies(data=train_labels)\n",
        "test_labels=pd.get_dummies(data=test_labels)\n",
        "print(train_images.shape)\n",
        "print(train_labels.shape)"
      ],
      "execution_count": 13,
      "outputs": [
        {
          "output_type": "stream",
          "text": [
            "(60000, 28, 28)\n",
            "(60000, 10)\n"
          ],
          "name": "stdout"
        }
      ]
    },
    {
      "cell_type": "code",
      "metadata": {
        "colab": {
          "base_uri": "https://localhost:8080/",
          "height": 265
        },
        "id": "NiQVLzFSOHfP",
        "outputId": "f6d3d1e2-30e4-4d8f-fed2-3918ca2128e0"
      },
      "source": [
        "plt.imshow(train_images[33,:,:])\n",
        "plt.show()"
      ],
      "execution_count": 14,
      "outputs": [
        {
          "output_type": "display_data",
          "data": {
            "image/png": "[encoded data removed]",
            "text/plain": [
              "<Figure size 432x288 with 1 Axes>"
            ]
          },
          "metadata": {
            "tags": [],
            "needs_background": "light"
          }
        }
      ]
    },
    {
      "cell_type": "code",
      "metadata": {
        "colab": {
          "base_uri": "https://localhost:8080/"
        },
        "id": "aokLGBdSO8BO",
        "outputId": "45f8b4d2-58db-43a2-c61e-f09d0514e9a5"
      },
      "source": [
        "flat_model=Sequential()\n",
        "flat_model.add(Flatten(input_shape=(28,28)))\n",
        "flat_model.add(Dense(units=217,kernel_initializer=tf.keras.initializers.RandomNormal(mean=0.0,stddev=0.01),kernel_regularizer=tf.keras.regularizers.l2(),activation=tf.keras.activations.relu))\n",
        "# flat_model.add(Dropout(0.3))\n",
        "flat_model.add(BatchNormalization())\n",
        "flat_model.add(Dense(units=10,kernel_initializer=tf.keras.initializers.RandomNormal(mean=0.0,stddev=0.01),activation=tf.keras.activations.softmax))\n",
        "print(flat_model.summary())"
      ],
      "execution_count": 56,
      "outputs": [
        {
          "output_type": "stream",
          "text": [
            "Model: \"sequential_13\"\n",
            "_________________________________________________________________\n",
            "Layer (type)                 Output Shape              Param #   \n",
            "=================================================================\n",
            "flatten_13 (Flatten)         (None, 784)               0         \n",
            "_________________________________________________________________\n",
            "dense_25 (Dense)             (None, 217)               170345    \n",
            "_________________________________________________________________\n",
            "batch_normalization_2 (Batch (None, 217)               868       \n",
            "_________________________________________________________________\n",
            "dense_26 (Dense)             (None, 10)                2180      \n",
            "=================================================================\n",
            "Total params: 173,393\n",
            "Trainable params: 172,959\n",
            "Non-trainable params: 434\n",
            "_________________________________________________________________\n",
            "None\n"
          ],
          "name": "stdout"
        }
      ]
    },
    {
      "cell_type": "code",
      "metadata": {
        "id": "MdYWdgJ8RRHt"
      },
      "source": [
        "flat_model.compile(optimizer=tf.keras.optimizers.Adam(),\n",
        "                   loss=tf.keras.losses.CategoricalCrossentropy(),\n",
        "                   metrics=[tf.keras.metrics.CategoricalAccuracy(), tf.keras.metrics.TopKCategoricalAccuracy(k=3)])"
      ],
      "execution_count": 57,
      "outputs": []
    },
    {
      "cell_type": "code",
      "metadata": {
        "colab": {
          "base_uri": "https://localhost:8080/"
        },
        "id": "9pAFbyZCSEs1",
        "outputId": "11521fe8-0f3a-48fd-e894-7a7e299ce719"
      },
      "source": [
        "history=flat_model.fit(x=train_images,y=train_labels,epochs=10,batch_size=256,validation_split=0.2)"
      ],
      "execution_count": 58,
      "outputs": [
        {
          "output_type": "stream",
          "text": [
            "Epoch 1/10\n",
            "188/188 [==============================] - 2s 10ms/step - loss: 0.8132 - categorical_accuracy: 0.7683 - top_k_categorical_accuracy: 0.9482 - val_loss: 0.4481 - val_categorical_accuracy: 0.8422 - val_top_k_categorical_accuracy: 0.9852\n",
            "Epoch 2/10\n",
            "188/188 [==============================] - 2s 9ms/step - loss: 0.3845 - categorical_accuracy: 0.8661 - top_k_categorical_accuracy: 0.9869 - val_loss: 0.4375 - val_categorical_accuracy: 0.8431 - val_top_k_categorical_accuracy: 0.9870\n",
            "Epoch 3/10\n",
            "188/188 [==============================] - 2s 9ms/step - loss: 0.3347 - categorical_accuracy: 0.8820 - top_k_categorical_accuracy: 0.9893 - val_loss: 0.3990 - val_categorical_accuracy: 0.8588 - val_top_k_categorical_accuracy: 0.9858\n",
            "Epoch 4/10\n",
            "188/188 [==============================] - 2s 9ms/step - loss: 0.3172 - categorical_accuracy: 0.8883 - top_k_categorical_accuracy: 0.9895 - val_loss: 0.4044 - val_categorical_accuracy: 0.8569 - val_top_k_categorical_accuracy: 0.9874\n",
            "Epoch 5/10\n",
            "188/188 [==============================] - 2s 10ms/step - loss: 0.3055 - categorical_accuracy: 0.8912 - top_k_categorical_accuracy: 0.9902 - val_loss: 0.5187 - val_categorical_accuracy: 0.8105 - val_top_k_categorical_accuracy: 0.9860\n",
            "Epoch 6/10\n",
            "188/188 [==============================] - 2s 9ms/step - loss: 0.2851 - categorical_accuracy: 0.8965 - top_k_categorical_accuracy: 0.9919 - val_loss: 0.3563 - val_categorical_accuracy: 0.8747 - val_top_k_categorical_accuracy: 0.9887\n",
            "Epoch 7/10\n",
            "188/188 [==============================] - 2s 9ms/step - loss: 0.2761 - categorical_accuracy: 0.8988 - top_k_categorical_accuracy: 0.9919 - val_loss: 0.3664 - val_categorical_accuracy: 0.8691 - val_top_k_categorical_accuracy: 0.9897\n",
            "Epoch 8/10\n",
            "188/188 [==============================] - 2s 9ms/step - loss: 0.2698 - categorical_accuracy: 0.9009 - top_k_categorical_accuracy: 0.9932 - val_loss: 0.3570 - val_categorical_accuracy: 0.8729 - val_top_k_categorical_accuracy: 0.9879\n",
            "Epoch 9/10\n",
            "188/188 [==============================] - 2s 9ms/step - loss: 0.2668 - categorical_accuracy: 0.9029 - top_k_categorical_accuracy: 0.9928 - val_loss: 0.3815 - val_categorical_accuracy: 0.8685 - val_top_k_categorical_accuracy: 0.9887\n",
            "Epoch 10/10\n",
            "188/188 [==============================] - 2s 9ms/step - loss: 0.2553 - categorical_accuracy: 0.9062 - top_k_categorical_accuracy: 0.9938 - val_loss: 0.3572 - val_categorical_accuracy: 0.8745 - val_top_k_categorical_accuracy: 0.9879\n"
          ],
          "name": "stdout"
        }
      ]
    },
    {
      "cell_type": "code",
      "metadata": {
        "colab": {
          "base_uri": "https://localhost:8080/"
        },
        "id": "83uvoHnSSlr4",
        "outputId": "ed071a6f-2371-4385-f83b-ed6e146655de"
      },
      "source": [
        "print(history.history.keys())\n",
        "print(history.history['loss'])"
      ],
      "execution_count": 47,
      "outputs": [
        {
          "output_type": "stream",
          "text": [
            "dict_keys(['loss', 'categorical_accuracy', 'top_k_categorical_accuracy', 'val_loss', 'val_categorical_accuracy', 'val_top_k_categorical_accuracy'])\n",
            "[5.254781723022461, 1.3834656476974487, 1.0990241765975952, 1.0169075727462769, 0.9604368209838867, 1.0846246480941772, 1.0282232761383057, 1.001705288887024, 1.0937422513961792, 1.920672059059143]\n"
          ],
          "name": "stdout"
        }
      ]
    },
    {
      "cell_type": "code",
      "metadata": {
        "colab": {
          "base_uri": "https://localhost:8080/",
          "height": 296
        },
        "id": "D2mF3EC_XkEq",
        "outputId": "9aca78ad-a9a3-4a9f-fad1-5caab55e668a"
      },
      "source": [
        "plt.plot(history.history['categorical_accuracy'])\n",
        "plt.plot(history.history['val_categorical_accuracy'])\n",
        "plt.xlabel('epochs')\n",
        "plt.ylabel('accuracy')\n",
        "plt.legend(['train','validation'],loc='upper right')"
      ],
      "execution_count": 49,
      "outputs": [
        {
          "output_type": "execute_result",
          "data": {
            "text/plain": [
              "<matplotlib.legend.Legend at 0x7f42618c51d0>"
            ]
          },
          "metadata": {
            "tags": []
          },
          "execution_count": 49
        },
        {
          "output_type": "display_data",
          "data": {
            "image/png": "[encoded data removed]",
            "text/plain": [
              "<Figure size 432x288 with 1 Axes>"
            ]
          },
          "metadata": {
            "tags": [],
            "needs_background": "light"
          }
        }
      ]
    }
  ]
}