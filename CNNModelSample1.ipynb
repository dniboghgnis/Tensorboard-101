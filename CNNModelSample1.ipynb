{
  "nbformat": 4,
  "nbformat_minor": 0,
  "metadata": {
    "colab": {
      "name": "CNNModelSample1.ipynb",
      "provenance": [],
      "collapsed_sections": [],
      "authorship_tag": "ABX9TyPTsUXsaTgQLzlT9WfSyfRp",
      "include_colab_link": true
    },
    "kernelspec": {
      "name": "python3",
      "display_name": "Python 3"
    }
  },
  "cells": [
    {
      "cell_type": "markdown",
      "metadata": {
        "id": "view-in-github",
        "colab_type": "text"
      },
      "source": [
        "<a href=\"https://colab.research.google.com/github/dniboghgnis/Tensorboard-101/blob/master/CNNModelSample1.ipynb\" target=\"_parent\"><img src=\"https://colab.research.google.com/assets/colab-badge.svg\" alt=\"Open In Colab\"/></a>"
      ]
    },
    {
      "cell_type": "code",
      "metadata": {
        "id": "cXX2pdo9LK0l"
      },
      "source": [
        "import tensorflow as tf\n",
        "import numpy as np\n",
        "import pandas as pd\n",
        "from tensorflow.keras import Sequential\n",
        "from tensorflow.keras.layers import Dense, Conv2D, Flatten, MaxPool2D\n",
        "import matplotlib.pyplot as plt"
      ],
      "execution_count": 28,
      "outputs": []
    },
    {
      "cell_type": "code",
      "metadata": {
        "id": "ha5BFBqOncmC"
      },
      "source": [
        "# Load the Fashion-MNIST dataset and normalize\n",
        "\n",
        "fashion_mnist_data = tf.keras.datasets.fashion_mnist\n",
        "(train_images, train_labels), (test_images, test_labels) = fashion_mnist_data.load_data()\n",
        "train_images=train_images/255\n",
        "train_labels=pd.get_dummies(data=train_labels)\n",
        "test_labels=pd.get_dummies(data=test_labels)"
      ],
      "execution_count": 29,
      "outputs": []
    },
    {
      "cell_type": "code",
      "metadata": {
        "id": "LHNxk1dckA9m"
      },
      "source": [
        "# Define the labels\n",
        "\n",
        "labels = [\n",
        "    'T-shirt/top',\n",
        "    'Trouser',\n",
        "    'Pullover',\n",
        "    'Dress',\n",
        "    'Coat',\n",
        "    'Sandal',\n",
        "    'Shirt',\n",
        "    'Sneaker',\n",
        "    'Bag',\n",
        "    'Ankle boot'\n",
        "]"
      ],
      "execution_count": 30,
      "outputs": []
    },
    {
      "cell_type": "code",
      "metadata": {
        "colab": {
          "base_uri": "https://localhost:8080/"
        },
        "id": "rQn9fKkhnf6W",
        "outputId": "a2301d9b-c7c2-4f95-d46e-15f730576d07"
      },
      "source": [
        "cnn_model_1=Sequential()\n",
        "cnn_model_1.add(Conv2D(filters=16,kernel_size=(3,3),kernel_initializer=tf.keras.initializers.RandomNormal(mean=0.0,stddev=0.25),bias_initializer=tf.keras.initializers.Zeros,activation=tf.keras.activations.sigmoid,input_shape=(28,28,1)))\n",
        "cnn_model_1.add(MaxPool2D(pool_size=(2,2),name='test_pooling_layer'))\n",
        "cnn_model_1.add(Flatten())\n",
        "cnn_model_1.add(Dense(units=10,kernel_initializer=tf.keras.initializers.RandomNormal(mean=0.0,stddev=0.25),bias_initializer=tf.keras.initializers.Zeros,activation=tf.keras.activations.softmax))\n",
        "print(cnn_model_1.summary())"
      ],
      "execution_count": 31,
      "outputs": [
        {
          "output_type": "stream",
          "text": [
            "Model: \"sequential_1\"\n",
            "_________________________________________________________________\n",
            "Layer (type)                 Output Shape              Param #   \n",
            "=================================================================\n",
            "conv2d_1 (Conv2D)            (None, 26, 26, 16)        160       \n",
            "_________________________________________________________________\n",
            "test_pooling_layer (MaxPooli (None, 13, 13, 16)        0         \n",
            "_________________________________________________________________\n",
            "flatten_1 (Flatten)          (None, 2704)              0         \n",
            "_________________________________________________________________\n",
            "dense_1 (Dense)              (None, 10)                27050     \n",
            "=================================================================\n",
            "Total params: 27,210\n",
            "Trainable params: 27,210\n",
            "Non-trainable params: 0\n",
            "_________________________________________________________________\n",
            "None\n"
          ],
          "name": "stdout"
        }
      ]
    },
    {
      "cell_type": "code",
      "metadata": {
        "id": "pIBDqZArq1Y9"
      },
      "source": [
        "cnn_model_1.compile(optimizer=tf.keras.optimizers.Adam(),\n",
        "                    loss=tf.keras.losses.CategoricalCrossentropy(),\n",
        "                    metrics=[tf.keras.metrics.CategoricalAccuracy(),tf.keras.metrics.MeanAbsolutePercentageError()])"
      ],
      "execution_count": 32,
      "outputs": []
    },
    {
      "cell_type": "code",
      "metadata": {
        "colab": {
          "base_uri": "https://localhost:8080/"
        },
        "id": "UmQIdCuHefa-",
        "outputId": "37d1062a-aed9-4a2f-8fe5-9584b4cceec0"
      },
      "source": [
        "history_model_1=cnn_model_1.fit(x=train_images[...,np.newaxis],y=train_labels,epochs=5,batch_size=256)"
      ],
      "execution_count": 33,
      "outputs": [
        {
          "output_type": "stream",
          "text": [
            "Epoch 1/5\n",
            "235/235 [==============================] - 13s 55ms/step - loss: 2.8453 - categorical_accuracy: 0.2289 - mean_absolute_percentage_error: 85442060.5424\n",
            "Epoch 2/5\n",
            "235/235 [==============================] - 12s 53ms/step - loss: 1.0059 - categorical_accuracy: 0.6613 - mean_absolute_percentage_error: 53217844.4407\n",
            "Epoch 3/5\n",
            "235/235 [==============================] - 13s 54ms/step - loss: 0.7550 - categorical_accuracy: 0.7324 - mean_absolute_percentage_error: 39784483.8644\n",
            "Epoch 4/5\n",
            "235/235 [==============================] - 13s 54ms/step - loss: 0.6571 - categorical_accuracy: 0.7657 - mean_absolute_percentage_error: 34631175.9153\n",
            "Epoch 5/5\n",
            "235/235 [==============================] - 13s 53ms/step - loss: 0.6046 - categorical_accuracy: 0.7821 - mean_absolute_percentage_error: 32013386.6356\n"
          ],
          "name": "stdout"
        }
      ]
    },
    {
      "cell_type": "code",
      "metadata": {
        "colab": {
          "base_uri": "https://localhost:8080/"
        },
        "id": "iKrSC0G1fWGz",
        "outputId": "dcf168c1-f864-4175-bd7e-ccffffa911d5"
      },
      "source": [
        "cnn_model_1.evaluate(x=test_images[...,np.newaxis],y=test_labels)"
      ],
      "execution_count": 34,
      "outputs": [
        {
          "output_type": "stream",
          "text": [
            "313/313 [==============================] - 1s 4ms/step - loss: 1.7083 - categorical_accuracy: 0.5577 - mean_absolute_percentage_error: 46301208.0000\n"
          ],
          "name": "stdout"
        },
        {
          "output_type": "execute_result",
          "data": {
            "text/plain": [
              "[1.708269715309143, 0.557699978351593, 46301208.0]"
            ]
          },
          "metadata": {
            "tags": []
          },
          "execution_count": 34
        }
      ]
    },
    {
      "cell_type": "code",
      "metadata": {
        "colab": {
          "base_uri": "https://localhost:8080/",
          "height": 316
        },
        "id": "JcxDZvzffVxg",
        "outputId": "428563ef-7ea5-4ad2-e99c-ce3a73bf232b"
      },
      "source": [
        "temp=test_images[5]/255\n",
        "\n",
        "print(labels[np.argmax(cnn_model_1.predict(x=temp[np.newaxis,...,np.newaxis]))])\n",
        "print(cnn_model_1.predict(x=temp[np.newaxis,...,np.newaxis]))\n",
        "plt.imshow(test_images[5]/255)\n",
        "plt.show()"
      ],
      "execution_count": 46,
      "outputs": [
        {
          "output_type": "stream",
          "text": [
            "Trouser\n",
            "[[3.3282193e-03 9.6279508e-01 4.8208251e-04 2.7398551e-03 2.6603431e-02\n",
            "  5.1601779e-07 3.9741592e-03 2.2435256e-06 7.4140924e-05 3.1843791e-07]]\n"
          ],
          "name": "stdout"
        },
        {
          "output_type": "display_data",
          "data": {
            "image/png": "[encoded data removed]",
            "text/plain": [
              "<Figure size 432x288 with 1 Axes>"
            ]
          },
          "metadata": {
            "tags": [],
            "needs_background": "light"
          }
        }
      ]
    }
  ]
}