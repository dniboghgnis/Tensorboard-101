{
  "nbformat": 4,
  "nbformat_minor": 0,
  "metadata": {
    "colab": {
      "name": "CNNModelSample1.ipynb",
      "provenance": [],
      "authorship_tag": "ABX9TyPNmI5rnPgz/4f/LLx60eGt",
      "include_colab_link": true
    },
    "kernelspec": {
      "name": "python3",
      "display_name": "Python 3"
    }
  },
  "cells": [
    {
      "cell_type": "markdown",
      "metadata": {
        "id": "view-in-github",
        "colab_type": "text"
      },
      "source": [
        "<a href=\"https://colab.research.google.com/github/dniboghgnis/Tensorboard-101/blob/master/CNNModelSample1.ipynb\" target=\"_parent\"><img src=\"https://colab.research.google.com/assets/colab-badge.svg\" alt=\"Open In Colab\"/></a>"
      ]
    },
    {
      "cell_type": "code",
      "metadata": {
        "id": "cXX2pdo9LK0l"
      },
      "source": [
        "import tensorflow as tf\n",
        "import numpy as np\n",
        "import pandas as pd\n",
        "from tensorflow.keras import Sequential\n",
        "from tensorflow.keras.layers import Dense, Conv2D, Flatten, MaxPool2D\n",
        "import matplotlib.pyplot as plt"
      ],
      "execution_count": 1,
      "outputs": []
    },
    {
      "cell_type": "code",
      "metadata": {
        "id": "ha5BFBqOncmC"
      },
      "source": [
        "# Load the Fashion-MNIST dataset and normalize\n",
        "\n",
        "fashion_mnist_data = tf.keras.datasets.fashion_mnist\n",
        "(train_images, train_labels), (test_images, test_labels) = fashion_mnist_data.load_data()\n",
        "train_images=train_images/255\n",
        "train_labels=pd.get_dummies(data=train_labels)"
      ],
      "execution_count": 14,
      "outputs": []
    },
    {
      "cell_type": "code",
      "metadata": {
        "colab": {
          "base_uri": "https://localhost:8080/"
        },
        "id": "rQn9fKkhnf6W",
        "outputId": "440ab564-f37e-41f6-9025-76125bddf398"
      },
      "source": [
        "cnn_model_1=Sequential()\n",
        "cnn_model_1.add(Conv2D(filters=16,kernel_size=(3,3),kernel_initializer=tf.keras.initializers.RandomNormal(mean=0.0,stddev=0.25),bias_initializer=tf.keras.initializers.Zeros,activation=tf.keras.activations.sigmoid,input_shape=(28,28,1)))\n",
        "cnn_model_1.add(MaxPool2D(pool_size=(2,2),name='test_pooling_layer'))\n",
        "cnn_model_1.add(Flatten())\n",
        "cnn_model_1.add(Dense(units=10,kernel_initializer=tf.keras.initializers.RandomNormal(mean=0.0,stddev=0.25),bias_initializer=tf.keras.initializers.Zeros,activation=tf.keras.activations.softmax))\n",
        "print(cnn_model_1.summary())"
      ],
      "execution_count": 15,
      "outputs": [
        {
          "output_type": "stream",
          "text": [
            "Model: \"sequential_4\"\n",
            "_________________________________________________________________\n",
            "Layer (type)                 Output Shape              Param #   \n",
            "=================================================================\n",
            "conv2d_3 (Conv2D)            (None, 26, 26, 16)        160       \n",
            "_________________________________________________________________\n",
            "test_pooling_layer (MaxPooli (None, 13, 13, 16)        0         \n",
            "_________________________________________________________________\n",
            "flatten_2 (Flatten)          (None, 2704)              0         \n",
            "_________________________________________________________________\n",
            "dense_2 (Dense)              (None, 10)                27050     \n",
            "=================================================================\n",
            "Total params: 27,210\n",
            "Trainable params: 27,210\n",
            "Non-trainable params: 0\n",
            "_________________________________________________________________\n",
            "None\n"
          ],
          "name": "stdout"
        }
      ]
    },
    {
      "cell_type": "code",
      "metadata": {
        "id": "pIBDqZArq1Y9"
      },
      "source": [
        "cnn_model_1.compile(optimizer=tf.keras.optimizers.Adam(),\n",
        "                    loss=tf.keras.losses.CategoricalCrossentropy(),\n",
        "                    metrics=[tf.keras.metrics.CategoricalAccuracy(),tf.keras.metrics.MeanAbsolutePercentageError()])"
      ],
      "execution_count": 16,
      "outputs": []
    },
    {
      "cell_type": "code",
      "metadata": {
        "colab": {
          "base_uri": "https://localhost:8080/"
        },
        "id": "UmQIdCuHefa-",
        "outputId": "aae2389e-6f6d-488c-b60f-6b33239944a2"
      },
      "source": [
        "history_model_1=cnn_model_1.fit(x=train_images[...,np.newaxis],y=train_labels,epochs=5,batch_size=256)"
      ],
      "execution_count": null,
      "outputs": [
        {
          "output_type": "stream",
          "text": [
            "Epoch 1/5\n",
            "235/235 [==============================] - 13s 55ms/step - loss: 2.7291 - categorical_accuracy: 0.2801 - mean_absolute_percentage_error: 82687028.3390\n",
            "Epoch 2/5\n",
            "106/235 [============>.................] - ETA: 6s - loss: 0.9548 - categorical_accuracy: 0.6859 - mean_absolute_percentage_error: 51249092.3396"
          ],
          "name": "stdout"
        }
      ]
    },
    {
      "cell_type": "code",
      "metadata": {
        "id": "iKrSC0G1fWGz"
      },
      "source": [
        "cnn_model_1.evaluate(x=train_images[...,np.newaxis],y=train_labels)"
      ],
      "execution_count": null,
      "outputs": []
    },
    {
      "cell_type": "code",
      "metadata": {
        "id": "JcxDZvzffVxg"
      },
      "source": [
        "cnn_model_1.predict(x=test_images[1:5,:,:])"
      ],
      "execution_count": null,
      "outputs": []
    }
  ]
}